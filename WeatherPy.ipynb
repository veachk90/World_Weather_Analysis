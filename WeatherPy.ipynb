{
 "cells": [
  {
   "cell_type": "code",
   "execution_count": 50,
   "id": "e3c37e37",
   "metadata": {},
   "outputs": [],
   "source": [
    "# Import the dependencies.\n",
    "import pandas as pd\n",
    "import matplotlib.pyplot as plt\n",
    "import numpy as np\n",
    "import requests\n",
    "from citipy import citipy\n",
    "from config import weather_api_key\n",
    "# Import the time library and the datetime module from the datetime library \n",
    "import time\n",
    "from datetime import datetime"
   ]
  },
  {
   "cell_type": "code",
   "execution_count": 39,
   "id": "82ff1de2",
   "metadata": {},
   "outputs": [],
   "source": [
    "url = \"http://api.openweathermap.org/data/2.5/weather?units=Imperial&APPID=\" + weather_api_key"
   ]
  },
  {
   "cell_type": "code",
   "execution_count": 51,
   "id": "edb613df",
   "metadata": {},
   "outputs": [
    {
     "data": {
      "text/plain": [
       "<zip at 0x2024ab3ac48>"
      ]
     },
     "execution_count": 51,
     "metadata": {},
     "output_type": "execute_result"
    }
   ],
   "source": [
    "# Create a set of random latitude and longitude combinations.\n",
    "lats = np.random.uniform(low=-90.000, high=90.000, size=1500)\n",
    "lngs = np.random.uniform(low=-180.000, high=180.000, size=1500)\n",
    "lat_lngs = zip(lats, lngs)\n",
    "lat_lngs"
   ]
  },
  {
   "cell_type": "code",
   "execution_count": 52,
   "id": "38e75c9d",
   "metadata": {},
   "outputs": [],
   "source": [
    "# Add the latitudes and longitudes to a list.\n",
    "coordinates = list(lat_lngs)"
   ]
  },
  {
   "cell_type": "code",
   "execution_count": 53,
   "id": "b76c5d3b",
   "metadata": {},
   "outputs": [],
   "source": [
    "from citipy import citipy"
   ]
  },
  {
   "cell_type": "code",
   "execution_count": 54,
   "id": "0cbb432d",
   "metadata": {},
   "outputs": [
    {
     "data": {
      "text/plain": [
       "617"
      ]
     },
     "execution_count": 54,
     "metadata": {},
     "output_type": "execute_result"
    }
   ],
   "source": [
    "# Create a list for holding the cities.\n",
    "cities = []\n",
    "# Identify the nearest city for each latitude and longitude combination.\n",
    "for coordinate in coordinates:\n",
    "    city = citipy.nearest_city(coordinate[0], coordinate[1]).city_name\n",
    "\n",
    "    # If the city is unique, then we will add it to the cities list.\n",
    "    if city not in cities:\n",
    "        cities.append(city)\n",
    "# Print the city count to confirm sufficient count.\n",
    "len(cities)"
   ]
  },
  {
   "cell_type": "code",
   "execution_count": 55,
   "id": "3c34a868",
   "metadata": {},
   "outputs": [
    {
     "name": "stdout",
     "output_type": "stream",
     "text": [
      "Beginning Data Retrieval     \n",
      "-----------------------------\n"
     ]
    }
   ],
   "source": [
    "# Create an empty list to hold the weather data.\n",
    "city_data = []\n",
    "# Print the beginning of the logging.\n",
    "print(\"Beginning Data Retrieval     \")\n",
    "print(\"-----------------------------\")\n",
    "\n",
    "# Create counters.\n",
    "record_count = 1\n",
    "set_count = 1"
   ]
  },
  {
   "cell_type": "code",
   "execution_count": 56,
   "id": "1dd37efd",
   "metadata": {},
   "outputs": [],
   "source": [
    "# Loop through all the cities in our list.\n",
    "for i in range(len(cities)):\n",
    "\n",
    "    # Group cities in sets of 50 for logging purposes.\n",
    "    if (i % 50 == 0 and i >= 50):\n",
    "        set_count += 1\n",
    "        record_count = 1\n",
    "        time.sleep(60)\n",
    "\n",
    "    # Create endpoint URL with each city.\n",
    "    city_url = url + \"&q=\" + cities[i]"
   ]
  },
  {
   "cell_type": "code",
   "execution_count": null,
   "id": "09dd3ffc",
   "metadata": {},
   "outputs": [
    {
     "name": "stdout",
     "output_type": "stream",
     "text": [
      "Processing Record 1 of Set 13 | barentsburg\n",
      "Processing Record 2 of Set 13 | tuktoyaktuk\n",
      "Processing Record 3 of Set 13 | mataura\n",
      "Processing Record 4 of Set 13 | mayo\n",
      "Processing Record 5 of Set 13 | castro\n",
      "Processing Record 6 of Set 13 | adrar\n",
      "Processing Record 7 of Set 13 | port alfred\n",
      "Processing Record 8 of Set 13 | rikitea\n",
      "Processing Record 9 of Set 13 | goderich\n",
      "Processing Record 10 of Set 13 | hobart\n",
      "Processing Record 11 of Set 13 | vaitupu\n",
      "Processing Record 12 of Set 13 | belushya guba\n",
      "Processing Record 13 of Set 13 | sorvag\n",
      "Processing Record 14 of Set 13 | tuatapere\n",
      "Processing Record 15 of Set 13 | dikson\n",
      "Processing Record 16 of Set 13 | faanui\n",
      "Processing Record 17 of Set 13 | bluff\n",
      "Processing Record 18 of Set 13 | albany\n",
      "Processing Record 19 of Set 13 | geraldton\n",
      "Processing Record 20 of Set 13 | new norfolk\n",
      "Processing Record 21 of Set 13 | busselton\n",
      "Processing Record 22 of Set 13 | avarua\n",
      "Processing Record 23 of Set 13 | tres picos\n",
      "Processing Record 24 of Set 13 | luganville\n",
      "Processing Record 25 of Set 13 | punta arenas\n",
      "Processing Record 26 of Set 13 | tonstad\n",
      "Processing Record 27 of Set 13 | sorland\n",
      "Processing Record 28 of Set 13 | mareeba\n",
      "Processing Record 29 of Set 13 | butaritari\n",
      "Processing Record 30 of Set 13 | susanville\n",
      "Processing Record 31 of Set 13 | kohlu\n",
      "Processing Record 32 of Set 13 | pichayevo\n",
      "Processing Record 33 of Set 13 | banda aceh\n",
      "Processing Record 34 of Set 13 | lorengau\n",
      "Processing Record 35 of Set 13 | kapaa\n",
      "Processing Record 36 of Set 13 | ushuaia\n",
      "Processing Record 37 of Set 13 | atuona\n",
      "Processing Record 38 of Set 13 | ojitlan\n",
      "Processing Record 39 of Set 13 | laguna\n",
      "Processing Record 40 of Set 13 | mys shmidta\n",
      "Processing Record 41 of Set 13 | tiksi\n",
      "Processing Record 42 of Set 13 | esperance\n",
      "Processing Record 43 of Set 13 | corinto\n",
      "Processing Record 44 of Set 13 | mar del plata\n",
      "Processing Record 45 of Set 13 | nome\n",
      "Processing Record 46 of Set 13 | vila velha\n",
      "Processing Record 47 of Set 13 | mezhdurechensk\n",
      "Processing Record 48 of Set 13 | muncar\n",
      "Processing Record 49 of Set 13 | nogliki\n",
      "Processing Record 50 of Set 13 | port-cartier\n",
      "Processing Record 1 of Set 14 | asau\n",
      "Processing Record 2 of Set 14 | portland\n",
      "Processing Record 3 of Set 14 | tasiilaq\n",
      "Processing Record 4 of Set 14 | port antonio\n",
      "Processing Record 5 of Set 14 | hithadhoo\n",
      "Processing Record 6 of Set 14 | husavik\n",
      "Processing Record 7 of Set 14 | merauke\n",
      "Processing Record 8 of Set 14 | fortuna\n",
      "Processing Record 9 of Set 14 | cherskiy\n",
      "Processing Record 10 of Set 14 | provideniya\n",
      "Processing Record 11 of Set 14 | nueva concepcion\n",
      "Processing Record 12 of Set 14 | yatou\n",
      "Processing Record 13 of Set 14 | suntar\n",
      "Processing Record 14 of Set 14 | vaini\n",
      "Processing Record 15 of Set 14 | mendahara\n",
      "Processing Record 16 of Set 14 | homer\n",
      "Processing Record 17 of Set 14 | hirara\n",
      "Processing Record 18 of Set 14 | olinda\n",
      "Processing Record 19 of Set 14 | yellowknife\n",
      "Processing Record 20 of Set 14 | guasdualito\n",
      "Processing Record 21 of Set 14 | lebu\n",
      "Processing Record 22 of Set 14 | taolanaro\n",
      "Processing Record 23 of Set 14 | norman wells\n",
      "Processing Record 24 of Set 14 | kodiak\n",
      "Processing Record 25 of Set 14 | east london\n",
      "Processing Record 26 of Set 14 | illoqqortoormiut\n",
      "Processing Record 27 of Set 14 | jamestown\n",
      "Processing Record 28 of Set 14 | bandarbeyla\n",
      "Processing Record 29 of Set 14 | emilio carranza\n",
      "Processing Record 30 of Set 14 | fasa\n",
      "Processing Record 31 of Set 14 | cape town\n",
      "Processing Record 32 of Set 14 | kaseda\n",
      "Processing Record 33 of Set 14 | pacifica\n",
      "Processing Record 34 of Set 14 | cowra\n",
      "Processing Record 35 of Set 14 | ilulissat\n",
      "Processing Record 36 of Set 14 | tenenkou\n",
      "Processing Record 37 of Set 14 | hilo\n",
      "Processing Record 38 of Set 14 | dzhusaly\n",
      "Processing Record 39 of Set 14 | krasnoselkup\n",
      "Processing Record 40 of Set 14 | tarudant\n",
      "Processing Record 41 of Set 14 | guekedou\n",
      "Processing Record 42 of Set 14 | torbay\n",
      "Processing Record 43 of Set 14 | moen\n",
      "Processing Record 44 of Set 14 | almaznyy\n",
      "Processing Record 45 of Set 14 | cagayan de tawi-tawi\n",
      "Processing Record 46 of Set 14 | sadat\n",
      "Processing Record 47 of Set 14 | qeshm\n",
      "Processing Record 48 of Set 14 | hermanus\n",
      "Processing Record 49 of Set 14 | cacule\n",
      "Processing Record 50 of Set 14 | huanren\n"
     ]
    }
   ],
   "source": [
    "# Loop through all the cities in the list.\n",
    "for i, city in enumerate(cities):\n",
    "\n",
    "    # Group cities in sets of 50 for logging purposes.\n",
    "    if (i % 50 == 0 and i >= 50):\n",
    "        set_count += 1\n",
    "        record_count = 1\n",
    "        time.sleep(60)\n",
    "\n",
    "    # Create endpoint URL with each city.\n",
    "    city_url = url + \"&q=\" + city.replace(\" \",\"+\")\n",
    "\n",
    "    # Log the URL, record, and set numbers and the city.\n",
    "    print(f\"Processing Record {record_count} of Set {set_count} | {city}\")\n",
    "    # Add 1 to the record count.\n",
    "    record_count += 1"
   ]
  },
  {
   "cell_type": "code",
   "execution_count": null,
   "id": "703383ec",
   "metadata": {},
   "outputs": [],
   "source": [
    "# Run an API request for each of the cities.\n",
    "try:\n",
    "    # Parse the JSON and retrieve data.\n",
    "    city_weather = requests.get(city_url).json()\n",
    "    # Parse out the needed data.\n",
    "    city_lat = city_weather[\"coord\"][\"lat\"]\n",
    "    city_lng = city_weather[\"coord\"][\"lon\"]\n",
    "    city_max_temp = city_weather[\"main\"][\"temp_max\"]\n",
    "    city_humidity = city_weather[\"main\"][\"humidity\"]\n",
    "    city_clouds = city_weather[\"clouds\"][\"all\"]\n",
    "    city_wind = city_weather[\"wind\"][\"speed\"]\n",
    "    city_country = city_weather[\"sys\"][\"country\"]\n",
    "    # Convert the date to ISO standard.\n",
    "    city_date = datetime.utcfromtimestamp(city_weather[\"dt\"]).strftime('%Y-%m-%d %H:%M:%S')\n",
    "    # Append the city information into city_data list.\n",
    "    city_data.append({\"City\": city.title(),\n",
    "                      \"Lat\": city_lat,\n",
    "                      \"Lng\": city_lng,\n",
    "                      \"Max Temp\": city_max_temp,\n",
    "                      \"Humidity\": city_humidity,\n",
    "                      \"Cloudiness\": city_clouds,\n",
    "                      \"Wind Speed\": city_wind,\n",
    "                      \"Country\": city_country,\n",
    "                      \"Date\": city_date})\n",
    "\n",
    "# If an error is experienced, skip the city.\n",
    "except:\n",
    "    print(\"City not found. Skipping...\")\n",
    "    pass\n",
    "\n",
    "# Indicate that Data Loading is complete.\n",
    "print(\"-----------------------------\")\n",
    "print(\"Data Retrieval Complete      \")\n",
    "print(\"-----------------------------\")"
   ]
  },
  {
   "cell_type": "code",
   "execution_count": null,
   "id": "56d305a3",
   "metadata": {},
   "outputs": [],
   "source": [
    "# Convert the array of dictionaries to a Pandas DataFrame.\n",
    "city_data_df = pd.DataFrame(city_data)\n",
    "city_data_df.head(10)"
   ]
  },
  {
   "cell_type": "code",
   "execution_count": null,
   "id": "2550c5ce",
   "metadata": {},
   "outputs": [],
   "source": [
    "# Create the output file (CSV).\n",
    "output_data_file = \"weather_data/cities.csv\"\n",
    "# Export the City_Data into a CSV.\n",
    "city_data_df.to_csv(output_data_file, index_label=\"City_ID\")"
   ]
  },
  {
   "cell_type": "code",
   "execution_count": null,
   "id": "ad071ef6",
   "metadata": {},
   "outputs": [],
   "source": []
  }
 ],
 "metadata": {
  "kernelspec": {
   "display_name": "PythonData",
   "language": "python",
   "name": "pythondata"
  },
  "language_info": {
   "codemirror_mode": {
    "name": "ipython",
    "version": 3
   },
   "file_extension": ".py",
   "mimetype": "text/x-python",
   "name": "python",
   "nbconvert_exporter": "python",
   "pygments_lexer": "ipython3",
   "version": "3.7.13"
  }
 },
 "nbformat": 4,
 "nbformat_minor": 5
}
